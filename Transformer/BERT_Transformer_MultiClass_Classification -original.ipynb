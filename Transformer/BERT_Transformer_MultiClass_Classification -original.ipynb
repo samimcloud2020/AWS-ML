{
  "nbformat": 4,
  "nbformat_minor": 0,
  "metadata": {
    "colab": {
      "provenance": [],
      "gpuType": "T4"
    },
    "kernelspec": {
      "name": "python3",
      "display_name": "Python 3"
    },
    "language_info": {
      "name": "python"
    },
    "accelerator": "GPU"
  },
  "cells": [
    {
      "cell_type": "code",
      "source": [
        "import pandas as pd\n",
        "df = pd.read_csv(\"train.tsv\", sep='\\t')\n",
        "df.head()"
      ],
      "metadata": {
        "colab": {
          "base_uri": "https://localhost:8080/",
          "height": 206
        },
        "id": "3bcyCcLwPCJo",
        "outputId": "e7060357-6e4e-4946-f45d-7ef12cb849c1"
      },
      "execution_count": 76,
      "outputs": [
        {
          "output_type": "execute_result",
          "data": {
            "text/plain": [
              "   PhraseId  SentenceId                                             Phrase  \\\n",
              "0         1           1  A series of escapades demonstrating the adage ...   \n",
              "1         2           1  A series of escapades demonstrating the adage ...   \n",
              "2         3           1                                           A series   \n",
              "3         4           1                                                  A   \n",
              "4         5           1                                             series   \n",
              "\n",
              "   Sentiment  \n",
              "0          1  \n",
              "1          2  \n",
              "2          2  \n",
              "3          2  \n",
              "4          2  "
            ],
            "text/html": [
              "\n",
              "  <div id=\"df-72644278-6b39-4e22-bb71-76917f1cac8e\" class=\"colab-df-container\">\n",
              "    <div>\n",
              "<style scoped>\n",
              "    .dataframe tbody tr th:only-of-type {\n",
              "        vertical-align: middle;\n",
              "    }\n",
              "\n",
              "    .dataframe tbody tr th {\n",
              "        vertical-align: top;\n",
              "    }\n",
              "\n",
              "    .dataframe thead th {\n",
              "        text-align: right;\n",
              "    }\n",
              "</style>\n",
              "<table border=\"1\" class=\"dataframe\">\n",
              "  <thead>\n",
              "    <tr style=\"text-align: right;\">\n",
              "      <th></th>\n",
              "      <th>PhraseId</th>\n",
              "      <th>SentenceId</th>\n",
              "      <th>Phrase</th>\n",
              "      <th>Sentiment</th>\n",
              "    </tr>\n",
              "  </thead>\n",
              "  <tbody>\n",
              "    <tr>\n",
              "      <th>0</th>\n",
              "      <td>1</td>\n",
              "      <td>1</td>\n",
              "      <td>A series of escapades demonstrating the adage ...</td>\n",
              "      <td>1</td>\n",
              "    </tr>\n",
              "    <tr>\n",
              "      <th>1</th>\n",
              "      <td>2</td>\n",
              "      <td>1</td>\n",
              "      <td>A series of escapades demonstrating the adage ...</td>\n",
              "      <td>2</td>\n",
              "    </tr>\n",
              "    <tr>\n",
              "      <th>2</th>\n",
              "      <td>3</td>\n",
              "      <td>1</td>\n",
              "      <td>A series</td>\n",
              "      <td>2</td>\n",
              "    </tr>\n",
              "    <tr>\n",
              "      <th>3</th>\n",
              "      <td>4</td>\n",
              "      <td>1</td>\n",
              "      <td>A</td>\n",
              "      <td>2</td>\n",
              "    </tr>\n",
              "    <tr>\n",
              "      <th>4</th>\n",
              "      <td>5</td>\n",
              "      <td>1</td>\n",
              "      <td>series</td>\n",
              "      <td>2</td>\n",
              "    </tr>\n",
              "  </tbody>\n",
              "</table>\n",
              "</div>\n",
              "    <div class=\"colab-df-buttons\">\n",
              "\n",
              "  <div class=\"colab-df-container\">\n",
              "    <button class=\"colab-df-convert\" onclick=\"convertToInteractive('df-72644278-6b39-4e22-bb71-76917f1cac8e')\"\n",
              "            title=\"Convert this dataframe to an interactive table.\"\n",
              "            style=\"display:none;\">\n",
              "\n",
              "  <svg xmlns=\"http://www.w3.org/2000/svg\" height=\"24px\" viewBox=\"0 -960 960 960\">\n",
              "    <path d=\"M120-120v-720h720v720H120Zm60-500h600v-160H180v160Zm220 220h160v-160H400v160Zm0 220h160v-160H400v160ZM180-400h160v-160H180v160Zm440 0h160v-160H620v160ZM180-180h160v-160H180v160Zm440 0h160v-160H620v160Z\"/>\n",
              "  </svg>\n",
              "    </button>\n",
              "\n",
              "  <style>\n",
              "    .colab-df-container {\n",
              "      display:flex;\n",
              "      gap: 12px;\n",
              "    }\n",
              "\n",
              "    .colab-df-convert {\n",
              "      background-color: #E8F0FE;\n",
              "      border: none;\n",
              "      border-radius: 50%;\n",
              "      cursor: pointer;\n",
              "      display: none;\n",
              "      fill: #1967D2;\n",
              "      height: 32px;\n",
              "      padding: 0 0 0 0;\n",
              "      width: 32px;\n",
              "    }\n",
              "\n",
              "    .colab-df-convert:hover {\n",
              "      background-color: #E2EBFA;\n",
              "      box-shadow: 0px 1px 2px rgba(60, 64, 67, 0.3), 0px 1px 3px 1px rgba(60, 64, 67, 0.15);\n",
              "      fill: #174EA6;\n",
              "    }\n",
              "\n",
              "    .colab-df-buttons div {\n",
              "      margin-bottom: 4px;\n",
              "    }\n",
              "\n",
              "    [theme=dark] .colab-df-convert {\n",
              "      background-color: #3B4455;\n",
              "      fill: #D2E3FC;\n",
              "    }\n",
              "\n",
              "    [theme=dark] .colab-df-convert:hover {\n",
              "      background-color: #434B5C;\n",
              "      box-shadow: 0px 1px 3px 1px rgba(0, 0, 0, 0.15);\n",
              "      filter: drop-shadow(0px 1px 2px rgba(0, 0, 0, 0.3));\n",
              "      fill: #FFFFFF;\n",
              "    }\n",
              "  </style>\n",
              "\n",
              "    <script>\n",
              "      const buttonEl =\n",
              "        document.querySelector('#df-72644278-6b39-4e22-bb71-76917f1cac8e button.colab-df-convert');\n",
              "      buttonEl.style.display =\n",
              "        google.colab.kernel.accessAllowed ? 'block' : 'none';\n",
              "\n",
              "      async function convertToInteractive(key) {\n",
              "        const element = document.querySelector('#df-72644278-6b39-4e22-bb71-76917f1cac8e');\n",
              "        const dataTable =\n",
              "          await google.colab.kernel.invokeFunction('convertToInteractive',\n",
              "                                                    [key], {});\n",
              "        if (!dataTable) return;\n",
              "\n",
              "        const docLinkHtml = 'Like what you see? Visit the ' +\n",
              "          '<a target=\"_blank\" href=https://colab.research.google.com/notebooks/data_table.ipynb>data table notebook</a>'\n",
              "          + ' to learn more about interactive tables.';\n",
              "        element.innerHTML = '';\n",
              "        dataTable['output_type'] = 'display_data';\n",
              "        await google.colab.output.renderOutput(dataTable, element);\n",
              "        const docLink = document.createElement('div');\n",
              "        docLink.innerHTML = docLinkHtml;\n",
              "        element.appendChild(docLink);\n",
              "      }\n",
              "    </script>\n",
              "  </div>\n",
              "\n",
              "\n",
              "<div id=\"df-7134bf4a-ccbf-4caa-8838-b28190182b30\">\n",
              "  <button class=\"colab-df-quickchart\" onclick=\"quickchart('df-7134bf4a-ccbf-4caa-8838-b28190182b30')\"\n",
              "            title=\"Suggest charts\"\n",
              "            style=\"display:none;\">\n",
              "\n",
              "<svg xmlns=\"http://www.w3.org/2000/svg\" height=\"24px\"viewBox=\"0 0 24 24\"\n",
              "     width=\"24px\">\n",
              "    <g>\n",
              "        <path d=\"M19 3H5c-1.1 0-2 .9-2 2v14c0 1.1.9 2 2 2h14c1.1 0 2-.9 2-2V5c0-1.1-.9-2-2-2zM9 17H7v-7h2v7zm4 0h-2V7h2v10zm4 0h-2v-4h2v4z\"/>\n",
              "    </g>\n",
              "</svg>\n",
              "  </button>\n",
              "\n",
              "<style>\n",
              "  .colab-df-quickchart {\n",
              "      --bg-color: #E8F0FE;\n",
              "      --fill-color: #1967D2;\n",
              "      --hover-bg-color: #E2EBFA;\n",
              "      --hover-fill-color: #174EA6;\n",
              "      --disabled-fill-color: #AAA;\n",
              "      --disabled-bg-color: #DDD;\n",
              "  }\n",
              "\n",
              "  [theme=dark] .colab-df-quickchart {\n",
              "      --bg-color: #3B4455;\n",
              "      --fill-color: #D2E3FC;\n",
              "      --hover-bg-color: #434B5C;\n",
              "      --hover-fill-color: #FFFFFF;\n",
              "      --disabled-bg-color: #3B4455;\n",
              "      --disabled-fill-color: #666;\n",
              "  }\n",
              "\n",
              "  .colab-df-quickchart {\n",
              "    background-color: var(--bg-color);\n",
              "    border: none;\n",
              "    border-radius: 50%;\n",
              "    cursor: pointer;\n",
              "    display: none;\n",
              "    fill: var(--fill-color);\n",
              "    height: 32px;\n",
              "    padding: 0;\n",
              "    width: 32px;\n",
              "  }\n",
              "\n",
              "  .colab-df-quickchart:hover {\n",
              "    background-color: var(--hover-bg-color);\n",
              "    box-shadow: 0 1px 2px rgba(60, 64, 67, 0.3), 0 1px 3px 1px rgba(60, 64, 67, 0.15);\n",
              "    fill: var(--button-hover-fill-color);\n",
              "  }\n",
              "\n",
              "  .colab-df-quickchart-complete:disabled,\n",
              "  .colab-df-quickchart-complete:disabled:hover {\n",
              "    background-color: var(--disabled-bg-color);\n",
              "    fill: var(--disabled-fill-color);\n",
              "    box-shadow: none;\n",
              "  }\n",
              "\n",
              "  .colab-df-spinner {\n",
              "    border: 2px solid var(--fill-color);\n",
              "    border-color: transparent;\n",
              "    border-bottom-color: var(--fill-color);\n",
              "    animation:\n",
              "      spin 1s steps(1) infinite;\n",
              "  }\n",
              "\n",
              "  @keyframes spin {\n",
              "    0% {\n",
              "      border-color: transparent;\n",
              "      border-bottom-color: var(--fill-color);\n",
              "      border-left-color: var(--fill-color);\n",
              "    }\n",
              "    20% {\n",
              "      border-color: transparent;\n",
              "      border-left-color: var(--fill-color);\n",
              "      border-top-color: var(--fill-color);\n",
              "    }\n",
              "    30% {\n",
              "      border-color: transparent;\n",
              "      border-left-color: var(--fill-color);\n",
              "      border-top-color: var(--fill-color);\n",
              "      border-right-color: var(--fill-color);\n",
              "    }\n",
              "    40% {\n",
              "      border-color: transparent;\n",
              "      border-right-color: var(--fill-color);\n",
              "      border-top-color: var(--fill-color);\n",
              "    }\n",
              "    60% {\n",
              "      border-color: transparent;\n",
              "      border-right-color: var(--fill-color);\n",
              "    }\n",
              "    80% {\n",
              "      border-color: transparent;\n",
              "      border-right-color: var(--fill-color);\n",
              "      border-bottom-color: var(--fill-color);\n",
              "    }\n",
              "    90% {\n",
              "      border-color: transparent;\n",
              "      border-bottom-color: var(--fill-color);\n",
              "    }\n",
              "  }\n",
              "</style>\n",
              "\n",
              "  <script>\n",
              "    async function quickchart(key) {\n",
              "      const quickchartButtonEl =\n",
              "        document.querySelector('#' + key + ' button');\n",
              "      quickchartButtonEl.disabled = true;  // To prevent multiple clicks.\n",
              "      quickchartButtonEl.classList.add('colab-df-spinner');\n",
              "      try {\n",
              "        const charts = await google.colab.kernel.invokeFunction(\n",
              "            'suggestCharts', [key], {});\n",
              "      } catch (error) {\n",
              "        console.error('Error during call to suggestCharts:', error);\n",
              "      }\n",
              "      quickchartButtonEl.classList.remove('colab-df-spinner');\n",
              "      quickchartButtonEl.classList.add('colab-df-quickchart-complete');\n",
              "    }\n",
              "    (() => {\n",
              "      let quickchartButtonEl =\n",
              "        document.querySelector('#df-7134bf4a-ccbf-4caa-8838-b28190182b30 button');\n",
              "      quickchartButtonEl.style.display =\n",
              "        google.colab.kernel.accessAllowed ? 'block' : 'none';\n",
              "    })();\n",
              "  </script>\n",
              "</div>\n",
              "\n",
              "    </div>\n",
              "  </div>\n"
            ],
            "application/vnd.google.colaboratory.intrinsic+json": {
              "type": "dataframe",
              "variable_name": "df"
            }
          },
          "metadata": {},
          "execution_count": 76
        }
      ]
    },
    {
      "cell_type": "code",
      "source": [
        "df.shape"
      ],
      "metadata": {
        "colab": {
          "base_uri": "https://localhost:8080/"
        },
        "id": "ditEnBGyPj-Q",
        "outputId": "1e87cc44-af2a-4afe-943b-2e9f5a22fb6e"
      },
      "execution_count": 77,
      "outputs": [
        {
          "output_type": "execute_result",
          "data": {
            "text/plain": [
              "(156060, 4)"
            ]
          },
          "metadata": {},
          "execution_count": 77
        }
      ]
    },
    {
      "cell_type": "code",
      "source": [
        "import numpy as np\n",
        "seq_len = 512\n",
        "num_samples = len(df)\n",
        "\n",
        "Xids = np.zeros((num_samples,seq_len))\n",
        "Xmask = np.zeros((num_samples,seq_len))\n",
        "\n",
        "Xids.shape"
      ],
      "metadata": {
        "colab": {
          "base_uri": "https://localhost:8080/"
        },
        "id": "CsJ9nG37PCMM",
        "outputId": "ff2a923a-be27-49e3-f02a-4315295dd90d"
      },
      "execution_count": 78,
      "outputs": [
        {
          "output_type": "execute_result",
          "data": {
            "text/plain": [
              "(156060, 512)"
            ]
          },
          "metadata": {},
          "execution_count": 78
        }
      ]
    },
    {
      "cell_type": "code",
      "source": [
        "from transformers import BertTokenizer\n",
        "tokenizer = BertTokenizer.from_pretrained('bert-base-cased')\n",
        "for i , phrase in enumerate(df['Phrase']):\n",
        "  tokens = tokenizer.encode_plus(phrase,\n",
        "                                 max_length=seq_len,\n",
        "                                 truncation=True,\n",
        "                                 padding='max_length',\n",
        "                                 add_special_tokens=True\n",
        "                                 )\n",
        "  Xids[i,:]=tokens['input_ids']\n",
        "  Xmask[i,:]=tokens['attention_mask']"
      ],
      "metadata": {
        "id": "pg_u9VWKPCO9"
      },
      "execution_count": 79,
      "outputs": []
    },
    {
      "cell_type": "code",
      "source": [
        "Xids"
      ],
      "metadata": {
        "colab": {
          "base_uri": "https://localhost:8080/"
        },
        "id": "1CKAb7d4SglB",
        "outputId": "9975691d-34d5-4500-e0ca-6347905d8721"
      },
      "execution_count": 80,
      "outputs": [
        {
          "output_type": "execute_result",
          "data": {
            "text/plain": [
              "array([[  101.,   138.,  1326., ...,     0.,     0.,     0.],\n",
              "       [  101.,   138.,  1326., ...,     0.,     0.,     0.],\n",
              "       [  101.,   138.,  1326., ...,     0.,     0.,     0.],\n",
              "       ...,\n",
              "       [  101.,   170., 25247., ...,     0.,     0.,     0.],\n",
              "       [  101.,   170., 25247., ...,     0.,     0.,     0.],\n",
              "       [  101., 22572., 12148., ...,     0.,     0.,     0.]])"
            ]
          },
          "metadata": {},
          "execution_count": 80
        }
      ]
    },
    {
      "cell_type": "code",
      "source": [
        "Xmask"
      ],
      "metadata": {
        "colab": {
          "base_uri": "https://localhost:8080/"
        },
        "id": "nJCLnzAfSgp6",
        "outputId": "2b49490e-0039-4a11-f0e0-b505ab871b3b"
      },
      "execution_count": 81,
      "outputs": [
        {
          "output_type": "execute_result",
          "data": {
            "text/plain": [
              "array([[1., 1., 1., ..., 0., 0., 0.],\n",
              "       [1., 1., 1., ..., 0., 0., 0.],\n",
              "       [1., 1., 1., ..., 0., 0., 0.],\n",
              "       ...,\n",
              "       [1., 1., 1., ..., 0., 0., 0.],\n",
              "       [1., 1., 1., ..., 0., 0., 0.],\n",
              "       [1., 1., 1., ..., 0., 0., 0.]])"
            ]
          },
          "metadata": {},
          "execution_count": 81
        }
      ]
    },
    {
      "cell_type": "code",
      "source": [
        "arr = df['Sentiment'].values\n",
        "arr"
      ],
      "metadata": {
        "colab": {
          "base_uri": "https://localhost:8080/"
        },
        "id": "OvhFhVe2SgtB",
        "outputId": "d76829e8-4011-41ae-e275-00b0ea017140"
      },
      "execution_count": 82,
      "outputs": [
        {
          "output_type": "execute_result",
          "data": {
            "text/plain": [
              "array([1, 2, 2, ..., 3, 2, 2])"
            ]
          },
          "metadata": {},
          "execution_count": 82
        }
      ]
    },
    {
      "cell_type": "code",
      "source": [
        "labels = np.zeros((num_samples,arr.max()+1))\n",
        "labels.shape"
      ],
      "metadata": {
        "colab": {
          "base_uri": "https://localhost:8080/"
        },
        "id": "n4yfI1nBPCSj",
        "outputId": "19f2d295-9f97-46c5-83f8-fa45dbb30228"
      },
      "execution_count": 83,
      "outputs": [
        {
          "output_type": "execute_result",
          "data": {
            "text/plain": [
              "(156060, 5)"
            ]
          },
          "metadata": {},
          "execution_count": 83
        }
      ]
    },
    {
      "cell_type": "markdown",
      "source": [
        "![image.png](data:image/png;base64,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)"
      ],
      "metadata": {
        "id": "XAjBc71YZKdu"
      }
    },
    {
      "cell_type": "code",
      "source": [
        "np.arange(num_samples),arr"
      ],
      "metadata": {
        "colab": {
          "base_uri": "https://localhost:8080/"
        },
        "id": "MT6LfbOKZaOJ",
        "outputId": "f692a5f7-32bb-4921-9c82-f29bbbc4103f"
      },
      "execution_count": 84,
      "outputs": [
        {
          "output_type": "execute_result",
          "data": {
            "text/plain": [
              "(array([     0,      1,      2, ..., 156057, 156058, 156059]),\n",
              " array([1, 2, 2, ..., 3, 2, 2]))"
            ]
          },
          "metadata": {},
          "execution_count": 84
        }
      ]
    },
    {
      "cell_type": "code",
      "source": [
        "labels[np.arange(num_samples),arr]"
      ],
      "metadata": {
        "colab": {
          "base_uri": "https://localhost:8080/"
        },
        "id": "JtkrsrtRZfkv",
        "outputId": "5485b1ad-75d1-4d20-ffa8-8ee7ffcb0cc4"
      },
      "execution_count": 85,
      "outputs": [
        {
          "output_type": "execute_result",
          "data": {
            "text/plain": [
              "array([0., 0., 0., ..., 0., 0., 0.])"
            ]
          },
          "metadata": {},
          "execution_count": 85
        }
      ]
    },
    {
      "cell_type": "code",
      "source": [
        "labels[np.arange(num_samples),arr]=1\n",
        "labels"
      ],
      "metadata": {
        "colab": {
          "base_uri": "https://localhost:8080/"
        },
        "id": "lAm2__zcTX5q",
        "outputId": "2205592a-1439-4ec8-d009-945e9dbc4051"
      },
      "execution_count": 86,
      "outputs": [
        {
          "output_type": "execute_result",
          "data": {
            "text/plain": [
              "array([[0., 1., 0., 0., 0.],\n",
              "       [0., 0., 1., 0., 0.],\n",
              "       [0., 0., 1., 0., 0.],\n",
              "       ...,\n",
              "       [0., 0., 0., 1., 0.],\n",
              "       [0., 0., 1., 0., 0.],\n",
              "       [0., 0., 1., 0., 0.]])"
            ]
          },
          "metadata": {},
          "execution_count": 86
        }
      ]
    },
    {
      "cell_type": "code",
      "source": [
        "#With the help of tf.data.Dataset.from_tensor_slices() method,\n",
        "#we can get the slices of an array in the form of objects by using tf.data.Dataset.from_tensor_slices() method.\n",
        "import tensorflow as tf\n",
        "dataset = tf.data.Dataset.from_tensor_slices((Xids,Xmask,labels))\n",
        "dataset.take(1)"
      ],
      "metadata": {
        "colab": {
          "base_uri": "https://localhost:8080/"
        },
        "id": "Ixa-gOYcTX8I",
        "outputId": "565380fe-8dbd-4678-e712-49d56ce5368c"
      },
      "execution_count": 87,
      "outputs": [
        {
          "output_type": "execute_result",
          "data": {
            "text/plain": [
              "<_TakeDataset element_spec=(TensorSpec(shape=(512,), dtype=tf.float64, name=None), TensorSpec(shape=(512,), dtype=tf.float64, name=None), TensorSpec(shape=(5,), dtype=tf.float64, name=None))>"
            ]
          },
          "metadata": {},
          "execution_count": 87
        }
      ]
    },
    {
      "cell_type": "code",
      "source": [
        "labels[0,:].shape"
      ],
      "metadata": {
        "colab": {
          "base_uri": "https://localhost:8080/"
        },
        "id": "mYgw3y_LTX_b",
        "outputId": "9d17da1b-4147-4770-ccbc-1c2510d0633c"
      },
      "execution_count": 88,
      "outputs": [
        {
          "output_type": "execute_result",
          "data": {
            "text/plain": [
              "(5,)"
            ]
          },
          "metadata": {},
          "execution_count": 88
        }
      ]
    },
    {
      "cell_type": "code",
      "source": [
        "def map_fun(input_ids,masks,labels):\n",
        "  return {'input_ids':input_ids,'attention_mask':masks}, labels"
      ],
      "metadata": {
        "id": "AWggcmjCTYB5"
      },
      "execution_count": 89,
      "outputs": []
    },
    {
      "cell_type": "code",
      "source": [
        "dataset = dataset.map(map_fun)"
      ],
      "metadata": {
        "id": "8vVXU72iTYFd"
      },
      "execution_count": 90,
      "outputs": []
    },
    {
      "cell_type": "code",
      "source": [
        "dataset.take(1)"
      ],
      "metadata": {
        "colab": {
          "base_uri": "https://localhost:8080/"
        },
        "id": "YehisQyhfQqh",
        "outputId": "381ffb31-4751-456f-c74e-29d962737017"
      },
      "execution_count": 91,
      "outputs": [
        {
          "output_type": "execute_result",
          "data": {
            "text/plain": [
              "<_TakeDataset element_spec=({'input_ids': TensorSpec(shape=(512,), dtype=tf.float64, name=None), 'attention_mask': TensorSpec(shape=(512,), dtype=tf.float64, name=None)}, TensorSpec(shape=(5,), dtype=tf.float64, name=None))>"
            ]
          },
          "metadata": {},
          "execution_count": 91
        }
      ]
    },
    {
      "cell_type": "code",
      "source": [
        "batch_size =4\n",
        "dataset = dataset.shuffle(10000).batch(batch_size,drop_remainder=True)\n",
        "dataset.take(1)"
      ],
      "metadata": {
        "colab": {
          "base_uri": "https://localhost:8080/"
        },
        "id": "dDFAApJTfTfm",
        "outputId": "807a0698-25a2-4afc-f36d-cfc89a3d8f21"
      },
      "execution_count": 92,
      "outputs": [
        {
          "output_type": "execute_result",
          "data": {
            "text/plain": [
              "<_TakeDataset element_spec=({'input_ids': TensorSpec(shape=(4, 512), dtype=tf.float64, name=None), 'attention_mask': TensorSpec(shape=(4, 512), dtype=tf.float64, name=None)}, TensorSpec(shape=(4, 5), dtype=tf.float64, name=None))>"
            ]
          },
          "metadata": {},
          "execution_count": 92
        }
      ]
    },
    {
      "cell_type": "code",
      "source": [
        "split = 0.9\n",
        "size = int((num_samples/batch_size)*split)\n",
        "size"
      ],
      "metadata": {
        "colab": {
          "base_uri": "https://localhost:8080/"
        },
        "id": "YINGAA9WfTyr",
        "outputId": "481e23ff-82c2-4628-c0ca-e2956716dfc1"
      },
      "execution_count": 93,
      "outputs": [
        {
          "output_type": "execute_result",
          "data": {
            "text/plain": [
              "35113"
            ]
          },
          "metadata": {},
          "execution_count": 93
        }
      ]
    },
    {
      "cell_type": "code",
      "source": [
        "train_ds =dataset.take(size)\n",
        "val_ds = dataset.skip(size)\n",
        "\n",
        "del dataset"
      ],
      "metadata": {
        "id": "AuzGqo4Ngg1a"
      },
      "execution_count": 94,
      "outputs": []
    },
    {
      "cell_type": "code",
      "source": [
        "train_ds, val_ds"
      ],
      "metadata": {
        "colab": {
          "base_uri": "https://localhost:8080/"
        },
        "id": "UtNEldS3gg33",
        "outputId": "3d8ab294-b6d3-4ea4-8b70-01778420268f"
      },
      "execution_count": 95,
      "outputs": [
        {
          "output_type": "execute_result",
          "data": {
            "text/plain": [
              "(<_TakeDataset element_spec=({'input_ids': TensorSpec(shape=(4, 512), dtype=tf.float64, name=None), 'attention_mask': TensorSpec(shape=(4, 512), dtype=tf.float64, name=None)}, TensorSpec(shape=(4, 5), dtype=tf.float64, name=None))>,\n",
              " <_SkipDataset element_spec=({'input_ids': TensorSpec(shape=(4, 512), dtype=tf.float64, name=None), 'attention_mask': TensorSpec(shape=(4, 512), dtype=tf.float64, name=None)}, TensorSpec(shape=(4, 5), dtype=tf.float64, name=None))>)"
            ]
          },
          "metadata": {},
          "execution_count": 95
        }
      ]
    },
    {
      "cell_type": "code",
      "source": [
        "from transformers import TFAutoModel\n",
        "bert = TFAutoModel.from_pretrained('bert-base-uncased')\n",
        "\n",
        "bert.summary()"
      ],
      "metadata": {
        "colab": {
          "base_uri": "https://localhost:8080/"
        },
        "id": "2UXS8Slzgg6Q",
        "outputId": "0db7a3d0-3fc8-4555-dad2-3d1925970b04"
      },
      "execution_count": 96,
      "outputs": [
        {
          "output_type": "stream",
          "name": "stderr",
          "text": [
            "Some weights of the PyTorch model were not used when initializing the TF 2.0 model TFBertModel: ['cls.seq_relationship.bias', 'cls.predictions.transform.dense.weight', 'cls.seq_relationship.weight', 'cls.predictions.transform.LayerNorm.weight', 'cls.predictions.transform.LayerNorm.bias', 'cls.predictions.transform.dense.bias', 'cls.predictions.bias']\n",
            "- This IS expected if you are initializing TFBertModel from a PyTorch model trained on another task or with another architecture (e.g. initializing a TFBertForSequenceClassification model from a BertForPreTraining model).\n",
            "- This IS NOT expected if you are initializing TFBertModel from a PyTorch model that you expect to be exactly identical (e.g. initializing a TFBertForSequenceClassification model from a BertForSequenceClassification model).\n",
            "All the weights of TFBertModel were initialized from the PyTorch model.\n",
            "If your task is similar to the task the model of the checkpoint was trained on, you can already use TFBertModel for predictions without further training.\n"
          ]
        },
        {
          "output_type": "stream",
          "name": "stdout",
          "text": [
            "Model: \"tf_bert_model_2\"\n",
            "_________________________________________________________________\n",
            " Layer (type)                Output Shape              Param #   \n",
            "=================================================================\n",
            " bert (TFBertMainLayer)      multiple                  109482240 \n",
            "                                                                 \n",
            "=================================================================\n",
            "Total params: 109482240 (417.64 MB)\n",
            "Trainable params: 109482240 (417.64 MB)\n",
            "Non-trainable params: 0 (0.00 Byte)\n",
            "_________________________________________________________________\n"
          ]
        }
      ]
    },
    {
      "cell_type": "code",
      "source": [
        "input_ids = tf.keras.layers.Input(shape=(seq_len),name='input_ids',dtype='int32')\n",
        "mask = tf.keras.layers.Input(shape=(seq_len),name='attention_mask',dtype='int32')\n",
        "\n",
        "embeddings=bert.bert(input_ids,attention_mask=mask)[1]\n",
        "\n",
        "x=tf.keras.layers.Dense(1024,activation='relu')(embeddings)\n",
        "y=tf.keras.layers.Dense(arr.max()+1,activation='softmax',name='outputs')(x)\n"
      ],
      "metadata": {
        "id": "jLuzuPuMgg_I"
      },
      "execution_count": 97,
      "outputs": []
    },
    {
      "cell_type": "code",
      "source": [
        "model = tf.keras.Model(inputs=[input_ids,mask],outputs=y)\n",
        "model.summary()"
      ],
      "metadata": {
        "colab": {
          "base_uri": "https://localhost:8080/"
        },
        "id": "2xWofkzxjny7",
        "outputId": "62c00854-060e-4d53-8778-9a2b3f36de2e"
      },
      "execution_count": 98,
      "outputs": [
        {
          "output_type": "stream",
          "name": "stdout",
          "text": [
            "Model: \"model_2\"\n",
            "__________________________________________________________________________________________________\n",
            " Layer (type)                Output Shape                 Param #   Connected to                  \n",
            "==================================================================================================\n",
            " input_ids (InputLayer)      [(None, 512)]                0         []                            \n",
            "                                                                                                  \n",
            " attention_mask (InputLayer  [(None, 512)]                0         []                            \n",
            " )                                                                                                \n",
            "                                                                                                  \n",
            " bert (TFBertMainLayer)      TFBaseModelOutputWithPooli   1094822   ['input_ids[0][0]',           \n",
            "                             ngAndCrossAttentions(last_   40         'attention_mask[0][0]']      \n",
            "                             hidden_state=(None, 512, 7                                           \n",
            "                             68),                                                                 \n",
            "                              pooler_output=(None, 768)                                           \n",
            "                             , past_key_values=None, hi                                           \n",
            "                             dden_states=None, attentio                                           \n",
            "                             ns=None, cross_attentions=                                           \n",
            "                             None)                                                                \n",
            "                                                                                                  \n",
            " dense_2 (Dense)             (None, 1024)                 787456    ['bert[0][1]']                \n",
            "                                                                                                  \n",
            " outputs (Dense)             (None, 5)                    5125      ['dense_2[0][0]']             \n",
            "                                                                                                  \n",
            "==================================================================================================\n",
            "Total params: 110274821 (420.67 MB)\n",
            "Trainable params: 110274821 (420.67 MB)\n",
            "Non-trainable params: 0 (0.00 Byte)\n",
            "__________________________________________________________________________________________________\n"
          ]
        }
      ]
    },
    {
      "cell_type": "code",
      "source": [
        "epochs = 50\n",
        "learning_rate = 0.00001\n",
        "decay_rate = learning_rate / epochs\n",
        "\n",
        "optimizer =tf.keras.optimizers.Adam(learning_rate=learning_rate)\n",
        "loss= tf.keras.losses.CategoricalCrossentropy()\n",
        "acc=tf.keras.metrics.CategoricalAccuracy('accuracy')"
      ],
      "metadata": {
        "id": "JLZnN--cjoA7"
      },
      "execution_count": 99,
      "outputs": []
    },
    {
      "cell_type": "code",
      "source": [
        "model.compile(optimizer=optimizer,loss=loss,metrics=[acc])"
      ],
      "metadata": {
        "id": "djYbl0kMjoD3"
      },
      "execution_count": 100,
      "outputs": []
    },
    {
      "cell_type": "code",
      "source": [
        "history = model.fit(\n",
        "    train_ds,\n",
        "    validation_data=val_ds,\n",
        "    epochs=1,\n",
        "    verbose=1\n",
        ")"
      ],
      "metadata": {
        "id": "4Iwc7KwejoG6",
        "colab": {
          "base_uri": "https://localhost:8080/"
        },
        "outputId": "fd6e74a3-fd17-4f52-c22a-9120d01f9215"
      },
      "execution_count": null,
      "outputs": [
        {
          "output_type": "stream",
          "name": "stdout",
          "text": [
            "13734/35113 [==========>...................] - ETA: 2:44:41 - loss: 1.0706 - accuracy: 0.5754"
          ]
        }
      ]
    },
    {
      "cell_type": "code",
      "source": [
        "model.save('sentiment_model')"
      ],
      "metadata": {
        "id": "AzawJGVGjoLo"
      },
      "execution_count": null,
      "outputs": []
    },
    {
      "cell_type": "code",
      "source": [
        "import tensorflow as tf"
      ],
      "metadata": {
        "id": "10siwjWm2OJx"
      },
      "execution_count": null,
      "outputs": []
    },
    {
      "cell_type": "code",
      "source": [
        "model = tf.keras.models.load_model('sentiment_model')"
      ],
      "metadata": {
        "id": "OZ8Dps-o2OMk"
      },
      "execution_count": null,
      "outputs": []
    },
    {
      "cell_type": "code",
      "source": [
        "model.summary()"
      ],
      "metadata": {
        "id": "tbon4V2T2OPP"
      },
      "execution_count": null,
      "outputs": []
    },
    {
      "cell_type": "code",
      "source": [
        "from transformers import BertTokenizer\n",
        "tokenizer = BertTokenizer.from_pretrained('bert-base-cased')\n",
        "\n",
        "def prep_data(text):\n",
        "  tokens = tokenizer.encode_plus(text,\n",
        "                                 max_length=seq_len,\n",
        "                                 truncation=True,\n",
        "                                 padding='max_length',\n",
        "                                 add_special_tokens=True,\n",
        "                                 return_token_type_id=False,\n",
        "                                 return_tensors='tf'\n",
        "                                 )\n",
        "  return {\n",
        "      'input_ids':tf.cast(tokens['input_ids'], tf.float64),\n",
        "      'attention_mask': tf.cast(tokens['attention_mask']. tf.float64)\n",
        "  }"
      ],
      "metadata": {
        "id": "FsUMpSAG27nE"
      },
      "execution_count": null,
      "outputs": []
    },
    {
      "cell_type": "code",
      "source": [
        "test = prep_data('hi i am going to school')"
      ],
      "metadata": {
        "id": "Nd45rz7-27pq"
      },
      "execution_count": null,
      "outputs": []
    },
    {
      "cell_type": "code",
      "source": [
        "probs = model.predict(test)\n",
        "probs[0]"
      ],
      "metadata": {
        "id": "UIdIrnqX5z_R"
      },
      "execution_count": null,
      "outputs": []
    },
    {
      "cell_type": "code",
      "source": [
        "import numpy as np\n",
        "np.argmax(probs[0])"
      ],
      "metadata": {
        "id": "f92_uhsG6BWF"
      },
      "execution_count": null,
      "outputs": []
    }
  ]
}